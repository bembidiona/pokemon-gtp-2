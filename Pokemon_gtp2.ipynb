{
  "nbformat": 4,
  "nbformat_minor": 0,
  "metadata": {
    "colab": {
      "name": "Pokemon-gtp2.ipynb",
      "provenance": [],
      "collapsed_sections": []
    },
    "kernelspec": {
      "name": "python3",
      "display_name": "Python 3"
    },
    "accelerator": "GPU"
  },
  "cells": [
    {
      "cell_type": "markdown",
      "metadata": {
        "id": "H7LoMj4GA4n_",
        "colab_type": "text"
      },
      "source": [
        "# Generación de Pokemones con GTP-2\n",
        "\n",
        "usando la libreria [aitextgen](https://github.com/minimaxir/aitextgen)"
      ]
    },
    {
      "cell_type": "markdown",
      "metadata": {
        "id": "AHFmfRSQueYS",
        "colab_type": "text"
      },
      "source": [
        "Arrancamos conectandonos a google drive e inicializando todo."
      ]
    },
    {
      "cell_type": "code",
      "metadata": {
        "id": "OinO7W4b3exa",
        "colab_type": "code",
        "colab": {}
      },
      "source": [
        "from google.colab import drive\n",
        "drive.mount('/content/drive')"
      ],
      "execution_count": null,
      "outputs": []
    },
    {
      "cell_type": "markdown",
      "metadata": {
        "id": "C3QEJxTZCjRQ",
        "colab_type": "text"
      },
      "source": [
        "Importamos las librerias que vamos a utilizar"
      ]
    },
    {
      "cell_type": "code",
      "metadata": {
        "id": "KBkpRgBCBS2_",
        "colab_type": "code",
        "colab": {}
      },
      "source": [
        "# !pip3 install pytorch-lightning==0.7.6\n",
        "# !pip install -q aitextgen\n",
        "\n",
        "# nuevos install para que no tire los errores\n",
        "!pip install -q transformers==2.11.0\n",
        "!pip install -q tokenizers==0.7.0\n",
        "!pip3 install pytorch-lightning==0.7.6\n",
        "!pip install -q aitextgen==0.1\n",
        "\n",
        "import logging\n",
        "logging.basicConfig(\n",
        "        format=\"%(asctime)s — %(levelname)s — %(name)s — %(message)s\",\n",
        "        datefmt=\"%m/%d/%Y %H:%M:%S\",\n",
        "        level=logging.INFO\n",
        ")\n",
        "\n",
        "from aitextgen import aitextgen\n",
        "from aitextgen.colab import mount_gdrive, copy_file_from_gdrive\n",
        "from aitextgen.TokenDataset import TokenDataset, merge_datasets\n",
        "from aitextgen.utils import build_gpt2_config\n",
        "from aitextgen.tokenizers import train_tokenizer"
      ],
      "execution_count": null,
      "outputs": []
    },
    {
      "cell_type": "markdown",
      "metadata": {
        "id": "Y5PXMa2vxeFy",
        "colab_type": "text"
      },
      "source": [
        "## Generar modelo nuevo\n"
      ]
    },
    {
      "cell_type": "code",
      "metadata": {
        "id": "DU3UnUrGYkGS",
        "colab_type": "code",
        "colab": {
          "base_uri": "https://localhost:8080/",
          "height": 282
        },
        "outputId": "b5fde5b0-b374-4ed3-c9f8-24048fc4a20d"
      },
      "source": [
        "%cd \"/content/drive/My Drive/gpt-2/models/pokedex_top\"\n",
        "\n",
        "data_root_path = \"/content/drive/My Drive/gpt-2/data/\"\n",
        "file_name = \"pokedex_top.txt\"\n",
        "full_file_path = data_root_path + file_name\n",
        "\n",
        "train_tokenizer(full_file_path)\n",
        "\n",
        "config = build_gpt2_config(vocab_size=500, max_length=1024, dropout=0.0, n_embd=128, n_layer=8, n_head=8)\n",
        "ai = aitextgen(config=config,\n",
        "               vocab_file=\"aitextgen-vocab.json\",\n",
        "               merges_file=\"aitextgen-merges.txt\",\n",
        "               to_gpu=True)"
      ],
      "execution_count": 1,
      "outputs": [
        {
          "output_type": "stream",
          "text": [
            "[Errno 2] No such file or directory: '/content/drive/My Drive/gpt-2/models/pokedex_top'\n",
            "/content\n"
          ],
          "name": "stdout"
        },
        {
          "output_type": "error",
          "ename": "NameError",
          "evalue": "ignored",
          "traceback": [
            "\u001b[0;31m---------------------------------------------------------------------------\u001b[0m",
            "\u001b[0;31mNameError\u001b[0m                                 Traceback (most recent call last)",
            "\u001b[0;32m<ipython-input-1-9e9a1ff5af08>\u001b[0m in \u001b[0;36m<module>\u001b[0;34m()\u001b[0m\n\u001b[1;32m      5\u001b[0m \u001b[0mfull_file_path\u001b[0m \u001b[0;34m=\u001b[0m \u001b[0mdata_root_path\u001b[0m \u001b[0;34m+\u001b[0m \u001b[0mfile_name\u001b[0m\u001b[0;34m\u001b[0m\u001b[0;34m\u001b[0m\u001b[0m\n\u001b[1;32m      6\u001b[0m \u001b[0;34m\u001b[0m\u001b[0m\n\u001b[0;32m----> 7\u001b[0;31m \u001b[0mtrain_tokenizer\u001b[0m\u001b[0;34m(\u001b[0m\u001b[0mfull_file_path\u001b[0m\u001b[0;34m)\u001b[0m\u001b[0;34m\u001b[0m\u001b[0;34m\u001b[0m\u001b[0m\n\u001b[0m\u001b[1;32m      8\u001b[0m \u001b[0;34m\u001b[0m\u001b[0m\n\u001b[1;32m      9\u001b[0m \u001b[0mconfig\u001b[0m \u001b[0;34m=\u001b[0m \u001b[0mbuild_gpt2_config\u001b[0m\u001b[0;34m(\u001b[0m\u001b[0mvocab_size\u001b[0m\u001b[0;34m=\u001b[0m\u001b[0;36m500\u001b[0m\u001b[0;34m,\u001b[0m \u001b[0mmax_length\u001b[0m\u001b[0;34m=\u001b[0m\u001b[0;36m1024\u001b[0m\u001b[0;34m,\u001b[0m \u001b[0mdropout\u001b[0m\u001b[0;34m=\u001b[0m\u001b[0;36m0.0\u001b[0m\u001b[0;34m,\u001b[0m \u001b[0mn_embd\u001b[0m\u001b[0;34m=\u001b[0m\u001b[0;36m128\u001b[0m\u001b[0;34m,\u001b[0m \u001b[0mn_layer\u001b[0m\u001b[0;34m=\u001b[0m\u001b[0;36m8\u001b[0m\u001b[0;34m,\u001b[0m \u001b[0mn_head\u001b[0m\u001b[0;34m=\u001b[0m\u001b[0;36m8\u001b[0m\u001b[0;34m)\u001b[0m\u001b[0;34m\u001b[0m\u001b[0;34m\u001b[0m\u001b[0m\n",
            "\u001b[0;31mNameError\u001b[0m: name 'train_tokenizer' is not defined"
          ]
        }
      ]
    },
    {
      "cell_type": "markdown",
      "metadata": {
        "id": "PrMlWklr8vlQ",
        "colab_type": "text"
      },
      "source": [
        "## Cargar modelo ya entrenado"
      ]
    },
    {
      "cell_type": "code",
      "metadata": {
        "id": "Yrm7Ufy_8CFi",
        "colab_type": "code",
        "colab": {
          "base_uri": "https://localhost:8080/",
          "height": 92
        },
        "outputId": "c69f7f0b-5e9f-42fb-bf70-e782f32a4814"
      },
      "source": [
        "%cd \"/content/drive/My Drive/gpt-2/models/pokedex_bottom\"\n",
        "\n",
        "ai = aitextgen(model=f\"trained_model/pytorch_model.bin\",\n",
        "               config=f\"trained_model/config.json\",\n",
        "               vocab_file=f\"aitextgen-vocab.json\",\n",
        "               merges_file=f\"aitextgen-merges.txt\",\n",
        "               to_gpu=True)"
      ],
      "execution_count": null,
      "outputs": [
        {
          "output_type": "stream",
          "text": [
            "07/21/2020 02:50:43 — INFO — aitextgen — Loading GPT-2 model from provided trained_model/pytorch_model.bin.\n",
            "07/21/2020 02:50:44 — INFO — aitextgen — Using a custom tokenizer.\n"
          ],
          "name": "stderr"
        },
        {
          "output_type": "stream",
          "text": [
            "/content/drive/My Drive/gpt-2/models/pokedex_bottom\n"
          ],
          "name": "stdout"
        }
      ]
    },
    {
      "cell_type": "markdown",
      "metadata": {
        "id": "wkFfBgqnxpD3",
        "colab_type": "text"
      },
      "source": [
        "## Entrenar"
      ]
    },
    {
      "cell_type": "code",
      "metadata": {
        "id": "Q4_fSMy1IRuw",
        "colab_type": "code",
        "colab": {}
      },
      "source": [
        "data_root_path = \"/content/drive/My Drive/gpt-2/data/\"\n",
        "file_name = \"pokedex_top.txt\"\n",
        "full_file_path = data_root_path + file_name\n",
        "ai.train(full_file_path,\n",
        "         line_by_line=True,\n",
        "         num_steps=15000,\n",
        "         generate_every=1000,\n",
        "         save_every=1000,\n",
        "         learning_rate=1e-4,\n",
        "         batch_size=8\n",
        ")"
      ],
      "execution_count": null,
      "outputs": []
    },
    {
      "cell_type": "markdown",
      "metadata": {
        "id": "0hcB6GN0xqU_",
        "colab_type": "text"
      },
      "source": [
        "## Generar"
      ]
    },
    {
      "cell_type": "code",
      "metadata": {
        "id": "zFltCjbw1NY9",
        "colab_type": "code",
        "colab": {}
      },
      "source": [
        "#mini test\n",
        "ai.generate(prompt=\"Bulbasaur: !8 \", temperature=0.01, min_length=1024, max_length=1024)"
      ],
      "execution_count": null,
      "outputs": []
    },
    {
      "cell_type": "code",
      "metadata": {
        "id": "M6bFfOJBrca2",
        "colab_type": "code",
        "colab": {}
      },
      "source": [
        "# names = [\"Bulbasaur\", \"Ivysaur\", \"Venusaur\", \"Charmander\", \"Charmeleon\", \"Charizard\", \"Squirtle\", \"Wartortle\", \"Blastoise\", \"Caterpie\", \"Metapod\", \"Butterfree\", \"Weedle\", \"Kakuna\", \"Beedrill\", \"Pidgey\", \"Pidgeotto\", \"Pidgeot\", \"Rattata\", \"Raticate\", \"Spearow\", \"Fearow\", \"Ekans\", \"Arbok\", \"Pikachu\", \"Raichu\", \"Sandshrew\", \"Sandslash\", \"Nidoran\", \"Nidorina\", \"Nidoqueen\", \"Nidoran\", \"Nidorino\", \"Nidoking\", \"Clefairy\", \"Clefable\", \"Vulpix\", \"Ninetales\", \"Jigglypuff\", \"Wigglytuff\", \"Zubat\", \"Golbat\", \"Oddish\", \"Gloom\", \"Vileplume\", \"Paras\", \"Parasect\", \"Venonat\", \"Venomoth\", \"Diglett\", \"Dugtrio\", \"Meowth\", \"Persian\", \"Psyduck\", \"Golduck\", \"Mankey\", \"Primeape\", \"Growlithe\", \"Arcanine\", \"Poliwag\", \"Poliwhirl\", \"Poliwrath\", \"Abra\", \"Kadabra\", \"Alakazam\", \"Machop\", \"Machoke\", \"Machamp\", \"Bellsprout\", \"Weepinbell\", \"Victreebel\", \"Tentacool\", \"Tentacruel\", \"Geodude\", \"Graveler\", \"Golem\", \"Ponyta\", \"Rapidash\", \"Slowpoke\", \"Slowbro\", \"Magnemite\", \"Magneton\", \"Farfetch'd\", \"Doduo\", \"Dodrio\", \"Seel\", \"Dewgong\", \"Grimer\", \"Muk\", \"Shellder\", \"Cloyster\", \"Gastly\", \"Haunter\", \"Gengar\", \"Onix\", \"Drowzee\", \"Hypno\", \"Krabby\", \"Kingler\", \"Voltorb\", \"Electrode\", \"Exeggcute\", \"Exeggutor\", \"Cubone\", \"Marowak\", \"Hitmonlee\", \"Hitmonchan\", \"Lickitung\", \"Koffing\", \"Weezing\", \"Rhyhorn\", \"Rhydon\", \"Chansey\", \"Tangela\", \"Kangaskhan\", \"Horsea\", \"Seadra\", \"Goldeen\", \"Seaking\", \"Staryu\", \"Starmie\", \"Mr.Mime\", \"Scyther\", \"Jynx\", \"Electabuzz\", \"Magmar\", \"Pinsir\", \"Tauros\", \"Magikarp\", \"Gyarados\", \"Lapras\", \"Ditto\", \"Eevee\", \"Vaporeon\", \"Jolteon\", \"Flareon\", \"Porygon\", \"Omanyte\", \"Omastar\", \"Kabuto\", \"Kabutops\", \"Aerodactyl\", \"Snorlax\", \"Articuno\", \"Zapdos\", \"Moltres\", \"Dratini\", \"Dragonair\", \"Dragonite\", \"Mewtwo\", \"Mew\"]\n",
        "names = ['Abholos', 'Alala', 'Ammutseba', 'Amon-Gorloth', 'Aphoom-Zhah', 'Apocolothoth', 'Arwassa', 'Atlach-Nacha', \"Ayi'ig\", 'Aylith', \"Baoht Z'uqqa-Mogg\", 'Basatan', \"B'gnu-Thun\", 'Bokrug', 'Bugg-Shash', 'Byagoona', 'Byatis', 'Chaugnar Faugn', 'Coatlicue', 'The Color', 'Coinchenn', 'Crom Cruach', 'Cthaat', 'Cthaeghya', 'Cthugha', 'Cthulhu', 'Cthylla', 'Ctoggha', 'Cyäegha', 'Cynothoglys', 'Dhumin', 'Dygra', 'Dythalla', 'Dzéwà', 'Eihort', \"Ei'lor\", 'Etepsed Egnis', 'Ghadamon', 'Ghatanothoa', 'Ghisguth', 'Gi-Hoveg', \"Gla'aki\", 'Gleeth', 'Gloon', 'Gobogeg', 'God of the Red Flux', 'Gog-Hoor', 'Gol-goroth', 'Golothess', 'The Green God', 'Groth-Golka', 'Gtuhanai', 'Gurathnaka', \"Gur'la-ya\", 'Gwarloth', 'Gzxtyos', 'Han', 'Hastalÿk', 'Hastur', \"H'chtelegoth\", 'Haiogh-Yai', 'Hnarqu', 'Hziulquoigmnzhah', 'Idh-yaa', 'Inpesca', 'Iod', 'Istasha', 'Ithaqua', \"Janai'ngo\", 'Juk-Shabb', 'Kaalut', \"Kag'Naru of the Air\", 'Kassogtha', 'Kaunuzoth', \"Khal'kru\", 'Klosmiebhyx', \"K'nar'st\", 'Krang', \"Kthaw'keth\", 'Kurpannga', 'Lam', \"Lexur'iga-serr'roth\", 'Lythalia', 'Mappo no Ryujin', \"M'basui Gwandu\", \"M'Nagalah\", 'Mnomquah', 'Mordiggian', 'Mormo', 'Mortllgh', 'Mynoghra', 'Nctosa & Nctolhu', \"Ngirrth'lu\", 'Northot', 'Nssu-Ghahnb', 'Nug and Yeb', 'Nyaghoggua', 'Nycrama', 'Nyogtha', \"Ob'mbu\", 'Oorn', 'Othuum', 'Othuyeg', 'Perse', 'Pharol', 'Poseidon', 'Psuchawrl', 'Ptar-Axtlan', 'Quachil Uttaus', 'Quyagen', \"Q'yth-az\", \"Raandaii-B'nk\", 'Ragnalla', 'Raphanasuan', 'Rhagorthua', 'Rhan-Tegoth', 'Rhogog', \"Rh'Thulla of the Wind\", 'Rlim Shaikorth', 'Rokon', 'Saaitii', 'Scathach', 'Sebek', 'Sedmelluq', 'Sfatlicllp', 'Shaklatal', 'Shathak', 'Shaurash-Ho', 'Sheb-Teth', 'Shista', 'Shlithneth', 'Sho-Gath', 'Shterot', \"Shudde M'ell\", 'Shuy-Nihl', 'Sthanee', \"S'tya-Yg'Nalle\", 'Summanus', 'Swarog', 'Thanaroa', 'Tharapithia', 'Thasaidon', \"T'ith\", 'Thog', 'Toth', \"Th'rygh\", 'Tsathoggua', 'Tulushuggua', 'Turua', 'Uitzilcapac', \"Ut'Ulls-Hr'Her\", 'Vhuzompha', 'Vibur', 'Vile-Oct', 'Volgna-Gath', 'Voltiyig', 'Vthyarilops', 'Vulthoom', 'The Worm that Gnaws in the Night', 'Xalafu', 'Xcthol', 'Xinlurgash', 'Xirdneth', 'Xitalu', 'Xotli', 'Xoxiigghua', 'Yamath', 'Yegg-Ha', \"Y'golonac\", 'Yhagni', 'Yhashtur', 'Yig', \"Y'lla\", \"'Ymnar\", 'Yog-Sapha', 'Yorith', 'Ysbaddaden', 'Ythogtha', 'Yug-Siturath', 'Zathog', 'Zhar and Lloigor', 'Zindarak', 'Zoth-Ommog', 'Zstylzhemghi', 'Zushakon', \"Z'toggua\", 'Zvilpogghua']\n",
        "\n",
        "output = \"\"\n",
        "len_names = len(names)\n",
        "for i, name in enumerate(names):\n",
        "  print(f\"processing: {i+1}/{len_names} {name}\")\n",
        "  pista = f\"{name}:\"\n",
        "  output += ai.generate_one(prompt=pista, temperature=0.5, min_length=1024, max_length=1024)\n",
        "  output += \"\\n\"\n",
        "\n",
        "with open(\"output_bottom.txt\",'w') as f:\n",
        "  f.write(output)"
      ],
      "execution_count": null,
      "outputs": []
    },
    {
      "cell_type": "markdown",
      "metadata": {
        "id": "y-s8oDfbc6iV",
        "colab_type": "text"
      },
      "source": [
        "este fue el ultimo. Un modelo para dibujar cabeza y otro para los pies:"
      ]
    },
    {
      "cell_type": "code",
      "metadata": {
        "id": "C6mxyCWkTyOj",
        "colab_type": "code",
        "colab": {
          "base_uri": "https://localhost:8080/",
          "height": 1000
        },
        "outputId": "c1e2e85b-c7f1-4b30-9385-9c1bf39176af"
      },
      "source": [
        "# names = [\"Bulbasaur\", \"Ivysaur\", \"Venusaur\", \"Charmander\", \"Charmeleon\", \"Charizard\", \"Squirtle\", \"Wartortle\", \"Blastoise\", \"Caterpie\", \"Metapod\", \"Butterfree\", \"Weedle\", \"Kakuna\", \"Beedrill\", \"Pidgey\", \"Pidgeotto\", \"Pidgeot\", \"Rattata\", \"Raticate\", \"Spearow\", \"Fearow\", \"Ekans\", \"Arbok\", \"Pikachu\", \"Raichu\", \"Sandshrew\", \"Sandslash\", \"Nidoran\", \"Nidorina\", \"Nidoqueen\", \"Nidoran\", \"Nidorino\", \"Nidoking\", \"Clefairy\", \"Clefable\", \"Vulpix\", \"Ninetales\", \"Jigglypuff\", \"Wigglytuff\", \"Zubat\", \"Golbat\", \"Oddish\", \"Gloom\", \"Vileplume\", \"Paras\", \"Parasect\", \"Venonat\", \"Venomoth\", \"Diglett\", \"Dugtrio\", \"Meowth\", \"Persian\", \"Psyduck\", \"Golduck\", \"Mankey\", \"Primeape\", \"Growlithe\", \"Arcanine\", \"Poliwag\", \"Poliwhirl\", \"Poliwrath\", \"Abra\", \"Kadabra\", \"Alakazam\", \"Machop\", \"Machoke\", \"Machamp\", \"Bellsprout\", \"Weepinbell\", \"Victreebel\", \"Tentacool\", \"Tentacruel\", \"Geodude\", \"Graveler\", \"Golem\", \"Ponyta\", \"Rapidash\", \"Slowpoke\", \"Slowbro\", \"Magnemite\", \"Magneton\", \"Farfetch'd\", \"Doduo\", \"Dodrio\", \"Seel\", \"Dewgong\", \"Grimer\", \"Muk\", \"Shellder\", \"Cloyster\", \"Gastly\", \"Haunter\", \"Gengar\", \"Onix\", \"Drowzee\", \"Hypno\", \"Krabby\", \"Kingler\", \"Voltorb\", \"Electrode\", \"Exeggcute\", \"Exeggutor\", \"Cubone\", \"Marowak\", \"Hitmonlee\", \"Hitmonchan\", \"Lickitung\", \"Koffing\", \"Weezing\", \"Rhyhorn\", \"Rhydon\", \"Chansey\", \"Tangela\", \"Kangaskhan\", \"Horsea\", \"Seadra\", \"Goldeen\", \"Seaking\", \"Staryu\", \"Starmie\", \"Mr.Mime\", \"Scyther\", \"Jynx\", \"Electabuzz\", \"Magmar\", \"Pinsir\", \"Tauros\", \"Magikarp\", \"Gyarados\", \"Lapras\", \"Ditto\", \"Eevee\", \"Vaporeon\", \"Jolteon\", \"Flareon\", \"Porygon\", \"Omanyte\", \"Omastar\", \"Kabuto\", \"Kabutops\", \"Aerodactyl\", \"Snorlax\", \"Articuno\", \"Zapdos\", \"Moltres\", \"Dratini\", \"Dragonair\", \"Dragonite\", \"Mewtwo\", \"Mew\"]\n",
        "names = ['Abholos', 'Alala', 'Ammutseba', 'Amon-Gorloth', 'Aphoom-Zhah', 'Apocolothoth', 'Arwassa', 'Atlach-Nacha', \"Ayi'ig\", 'Aylith', \"Baoht Z'uqqa-Mogg\", 'Basatan', \"B'gnu-Thun\", 'Bokrug', 'Bugg-Shash', 'Byagoona', 'Byatis', 'Chaugnar Faugn', 'Coatlicue', 'The Color', 'Coinchenn', 'Crom Cruach', 'Cthaat', 'Cthaeghya', 'Cthugha', 'Cthulhu', 'Cthylla', 'Ctoggha', 'Cyäegha', 'Cynothoglys', 'Dhumin', 'Dygra', 'Dythalla', 'Dzéwà', 'Eihort', \"Ei'lor\", 'Etepsed Egnis', 'Ghadamon', 'Ghatanothoa', 'Ghisguth', 'Gi-Hoveg', \"Gla'aki\", 'Gleeth', 'Gloon', 'Gobogeg', 'God of the Red Flux', 'Gog-Hoor', 'Gol-goroth', 'Golothess', 'The Green God', 'Groth-Golka', 'Gtuhanai', 'Gurathnaka', \"Gur'la-ya\", 'Gwarloth', 'Gzxtyos', 'Han', 'Hastalÿk', 'Hastur', \"H'chtelegoth\", 'Haiogh-Yai', 'Hnarqu', 'Hziulquoigmnzhah', 'Idh-yaa', 'Inpesca', 'Iod', 'Istasha', 'Ithaqua', \"Janai'ngo\", 'Juk-Shabb', 'Kaalut', \"Kag'Naru of the Air\", 'Kassogtha', 'Kaunuzoth', \"Khal'kru\", 'Klosmiebhyx', \"K'nar'st\", 'Krang', \"Kthaw'keth\", 'Kurpannga', 'Lam', \"Lexur'iga-serr'roth\", 'Lythalia', 'Mappo no Ryujin', \"M'basui Gwandu\", \"M'Nagalah\", 'Mnomquah', 'Mordiggian', 'Mormo', 'Mortllgh', 'Mynoghra', 'Nctosa & Nctolhu', \"Ngirrth'lu\", 'Northot', 'Nssu-Ghahnb', 'Nug and Yeb', 'Nyaghoggua', 'Nycrama', 'Nyogtha', \"Ob'mbu\", 'Oorn', 'Othuum', 'Othuyeg', 'Perse', 'Pharol', 'Poseidon', 'Psuchawrl', 'Ptar-Axtlan', 'Quachil Uttaus', 'Quyagen', \"Q'yth-az\", \"Raandaii-B'nk\", 'Ragnalla', 'Raphanasuan', 'Rhagorthua', 'Rhan-Tegoth', 'Rhogog', \"Rh'Thulla of the Wind\", 'Rlim Shaikorth', 'Rokon', 'Saaitii', 'Scathach', 'Sebek', 'Sedmelluq', 'Sfatlicllp', 'Shaklatal', 'Shathak', 'Shaurash-Ho', 'Sheb-Teth', 'Shista', 'Shlithneth', 'Sho-Gath', 'Shterot', \"Shudde M'ell\", 'Shuy-Nihl', 'Sthanee', \"S'tya-Yg'Nalle\", 'Summanus', 'Swarog', 'Thanaroa', 'Tharapithia', 'Thasaidon', \"T'ith\", 'Thog', 'Toth', \"Th'rygh\", 'Tsathoggua', 'Tulushuggua', 'Turua', 'Uitzilcapac', \"Ut'Ulls-Hr'Her\", 'Vhuzompha', 'Vibur', 'Vile-Oct', 'Volgna-Gath', 'Voltiyig', 'Vthyarilops', 'Vulthoom', 'The Worm that Gnaws in the Night', 'Xalafu', 'Xcthol', 'Xinlurgash', 'Xirdneth', 'Xitalu', 'Xotli', 'Xoxiigghua', 'Yamath', 'Yegg-Ha', \"Y'golonac\", 'Yhagni', 'Yhashtur', 'Yig', \"Y'lla\", \"'Ymnar\", 'Yog-Sapha', 'Yorith', 'Ysbaddaden', 'Ythogtha', 'Yug-Siturath', 'Zathog', 'Zhar and Lloigor', 'Zindarak', 'Zoth-Ommog', 'Zstylzhemghi', 'Zushakon', \"Z'toggua\", 'Zvilpogghua']\n",
        "randomness = 0.1\n",
        "\n",
        "\n",
        "%cd \"/content/drive/My Drive/gpt-2/models/pokedex_top\"\n",
        "ai = aitextgen(model=f\"trained_model/pytorch_model.bin\",\n",
        "               config=f\"trained_model/config.json\",\n",
        "               vocab_file=f\"aitextgen-vocab.json\",\n",
        "               merges_file=f\"aitextgen-merges.txt\",\n",
        "               to_gpu=True)\n",
        "\n",
        "output = \"\"\n",
        "len_names = len(names)\n",
        "for i, name in enumerate(names):\n",
        "  print(f\"processing top: {i+1}/{len_names} {name}\")\n",
        "  pista = f\"{name}:\"\n",
        "  output += ai.generate_one(prompt=pista, temperature=randomness, min_length=1024, max_length=1024)\n",
        "  output += \"\\n\"\n",
        "\n",
        "with open(\"output_top.txt\",'w') as f:\n",
        "  f.write(output)\n",
        "\n",
        "\n",
        "\n",
        "\n",
        "%cd \"/content/drive/My Drive/gpt-2/models/pokedex_bottom\"\n",
        "ai = aitextgen(model=f\"trained_model/pytorch_model.bin\",\n",
        "               config=f\"trained_model/config.json\",\n",
        "               vocab_file=f\"aitextgen-vocab.json\",\n",
        "               merges_file=f\"aitextgen-merges.txt\",\n",
        "               to_gpu=True)\n",
        "\n",
        "output = \"\"\n",
        "len_names = len(names)\n",
        "for i, name in enumerate(names):\n",
        "  print(f\"processing bottom: {i+1}/{len_names} {name}\")\n",
        "  pista = f\"{name}:\"\n",
        "  output += ai.generate_one(prompt=pista, temperature=randomness, min_length=1024, max_length=1024)\n",
        "  output += \"\\n\"\n",
        "\n",
        "with open(\"output_bottom.txt\",'w') as f:\n",
        "  f.write(output)"
      ],
      "execution_count": null,
      "outputs": [
        {
          "output_type": "stream",
          "text": [
            "07/21/2020 17:03:52 — INFO — aitextgen — Loading GPT-2 model from provided trained_model/pytorch_model.bin.\n",
            "07/21/2020 17:03:53 — INFO — aitextgen — Using a custom tokenizer.\n"
          ],
          "name": "stderr"
        },
        {
          "output_type": "stream",
          "text": [
            "/content/drive/My Drive/gpt-2/models/pokedex_top\n",
            "processing top: 1/187 Abholos\n",
            "processing top: 2/187 Alala\n",
            "processing top: 3/187 Ammutseba\n",
            "processing top: 4/187 Amon-Gorloth\n",
            "processing top: 5/187 Aphoom-Zhah\n",
            "processing top: 6/187 Apocolothoth\n",
            "processing top: 7/187 Arwassa\n",
            "processing top: 8/187 Atlach-Nacha\n",
            "processing top: 9/187 Ayi'ig\n",
            "processing top: 10/187 Aylith\n",
            "processing top: 11/187 Baoht Z'uqqa-Mogg\n",
            "processing top: 12/187 Basatan\n",
            "processing top: 13/187 B'gnu-Thun\n",
            "processing top: 14/187 Bokrug\n",
            "processing top: 15/187 Bugg-Shash\n",
            "processing top: 16/187 Byagoona\n",
            "processing top: 17/187 Byatis\n",
            "processing top: 18/187 Chaugnar Faugn\n",
            "processing top: 19/187 Coatlicue\n",
            "processing top: 20/187 The Color\n",
            "processing top: 21/187 Coinchenn\n",
            "processing top: 22/187 Crom Cruach\n",
            "processing top: 23/187 Cthaat\n",
            "processing top: 24/187 Cthaeghya\n",
            "processing top: 25/187 Cthugha\n",
            "processing top: 26/187 Cthulhu\n",
            "processing top: 27/187 Cthylla\n",
            "processing top: 28/187 Ctoggha\n",
            "processing top: 29/187 Cyäegha\n",
            "processing top: 30/187 Cynothoglys\n",
            "processing top: 31/187 Dhumin\n",
            "processing top: 32/187 Dygra\n",
            "processing top: 33/187 Dythalla\n",
            "processing top: 34/187 Dzéwà\n",
            "processing top: 35/187 Eihort\n",
            "processing top: 36/187 Ei'lor\n",
            "processing top: 37/187 Etepsed Egnis\n",
            "processing top: 38/187 Ghadamon\n",
            "processing top: 39/187 Ghatanothoa\n",
            "processing top: 40/187 Ghisguth\n",
            "processing top: 41/187 Gi-Hoveg\n",
            "processing top: 42/187 Gla'aki\n",
            "processing top: 43/187 Gleeth\n",
            "processing top: 44/187 Gloon\n",
            "processing top: 45/187 Gobogeg\n",
            "processing top: 46/187 God of the Red Flux\n",
            "processing top: 47/187 Gog-Hoor\n",
            "processing top: 48/187 Gol-goroth\n",
            "processing top: 49/187 Golothess\n",
            "processing top: 50/187 The Green God\n",
            "processing top: 51/187 Groth-Golka\n",
            "processing top: 52/187 Gtuhanai\n",
            "processing top: 53/187 Gurathnaka\n",
            "processing top: 54/187 Gur'la-ya\n",
            "processing top: 55/187 Gwarloth\n",
            "processing top: 56/187 Gzxtyos\n",
            "processing top: 57/187 Han\n",
            "processing top: 58/187 Hastalÿk\n",
            "processing top: 59/187 Hastur\n",
            "processing top: 60/187 H'chtelegoth\n",
            "processing top: 61/187 Haiogh-Yai\n",
            "processing top: 62/187 Hnarqu\n",
            "processing top: 63/187 Hziulquoigmnzhah\n",
            "processing top: 64/187 Idh-yaa\n",
            "processing top: 65/187 Inpesca\n",
            "processing top: 66/187 Iod\n",
            "processing top: 67/187 Istasha\n",
            "processing top: 68/187 Ithaqua\n",
            "processing top: 69/187 Janai'ngo\n",
            "processing top: 70/187 Juk-Shabb\n",
            "processing top: 71/187 Kaalut\n",
            "processing top: 72/187 Kag'Naru of the Air\n",
            "processing top: 73/187 Kassogtha\n",
            "processing top: 74/187 Kaunuzoth\n",
            "processing top: 75/187 Khal'kru\n",
            "processing top: 76/187 Klosmiebhyx\n",
            "processing top: 77/187 K'nar'st\n",
            "processing top: 78/187 Krang\n",
            "processing top: 79/187 Kthaw'keth\n",
            "processing top: 80/187 Kurpannga\n",
            "processing top: 81/187 Lam\n",
            "processing top: 82/187 Lexur'iga-serr'roth\n",
            "processing top: 83/187 Lythalia\n",
            "processing top: 84/187 Mappo no Ryujin\n",
            "processing top: 85/187 M'basui Gwandu\n",
            "processing top: 86/187 M'Nagalah\n",
            "processing top: 87/187 Mnomquah\n",
            "processing top: 88/187 Mordiggian\n",
            "processing top: 89/187 Mormo\n",
            "processing top: 90/187 Mortllgh\n",
            "processing top: 91/187 Mynoghra\n",
            "processing top: 92/187 Nctosa & Nctolhu\n",
            "processing top: 93/187 Ngirrth'lu\n",
            "processing top: 94/187 Northot\n",
            "processing top: 95/187 Nssu-Ghahnb\n",
            "processing top: 96/187 Nug and Yeb\n",
            "processing top: 97/187 Nyaghoggua\n",
            "processing top: 98/187 Nycrama\n",
            "processing top: 99/187 Nyogtha\n",
            "processing top: 100/187 Ob'mbu\n",
            "processing top: 101/187 Oorn\n",
            "processing top: 102/187 Othuum\n",
            "processing top: 103/187 Othuyeg\n",
            "processing top: 104/187 Perse\n",
            "processing top: 105/187 Pharol\n",
            "processing top: 106/187 Poseidon\n",
            "processing top: 107/187 Psuchawrl\n",
            "processing top: 108/187 Ptar-Axtlan\n",
            "processing top: 109/187 Quachil Uttaus\n",
            "processing top: 110/187 Quyagen\n",
            "processing top: 111/187 Q'yth-az\n",
            "processing top: 112/187 Raandaii-B'nk\n",
            "processing top: 113/187 Ragnalla\n",
            "processing top: 114/187 Raphanasuan\n",
            "processing top: 115/187 Rhagorthua\n",
            "processing top: 116/187 Rhan-Tegoth\n",
            "processing top: 117/187 Rhogog\n",
            "processing top: 118/187 Rh'Thulla of the Wind\n",
            "processing top: 119/187 Rlim Shaikorth\n",
            "processing top: 120/187 Rokon\n",
            "processing top: 121/187 Saaitii\n",
            "processing top: 122/187 Scathach\n",
            "processing top: 123/187 Sebek\n",
            "processing top: 124/187 Sedmelluq\n",
            "processing top: 125/187 Sfatlicllp\n",
            "processing top: 126/187 Shaklatal\n",
            "processing top: 127/187 Shathak\n",
            "processing top: 128/187 Shaurash-Ho\n",
            "processing top: 129/187 Sheb-Teth\n",
            "processing top: 130/187 Shista\n",
            "processing top: 131/187 Shlithneth\n",
            "processing top: 132/187 Sho-Gath\n",
            "processing top: 133/187 Shterot\n",
            "processing top: 134/187 Shudde M'ell\n",
            "processing top: 135/187 Shuy-Nihl\n",
            "processing top: 136/187 Sthanee\n",
            "processing top: 137/187 S'tya-Yg'Nalle\n",
            "processing top: 138/187 Summanus\n",
            "processing top: 139/187 Swarog\n",
            "processing top: 140/187 Thanaroa\n",
            "processing top: 141/187 Tharapithia\n",
            "processing top: 142/187 Thasaidon\n",
            "processing top: 143/187 T'ith\n",
            "processing top: 144/187 Thog\n",
            "processing top: 145/187 Toth\n",
            "processing top: 146/187 Th'rygh\n",
            "processing top: 147/187 Tsathoggua\n",
            "processing top: 148/187 Tulushuggua\n",
            "processing top: 149/187 Turua\n",
            "processing top: 150/187 Uitzilcapac\n",
            "processing top: 151/187 Ut'Ulls-Hr'Her\n",
            "processing top: 152/187 Vhuzompha\n",
            "processing top: 153/187 Vibur\n",
            "processing top: 154/187 Vile-Oct\n",
            "processing top: 155/187 Volgna-Gath\n",
            "processing top: 156/187 Voltiyig\n",
            "processing top: 157/187 Vthyarilops\n",
            "processing top: 158/187 Vulthoom\n",
            "processing top: 159/187 The Worm that Gnaws in the Night\n",
            "processing top: 160/187 Xalafu\n",
            "processing top: 161/187 Xcthol\n",
            "processing top: 162/187 Xinlurgash\n",
            "processing top: 163/187 Xirdneth\n",
            "processing top: 164/187 Xitalu\n",
            "processing top: 165/187 Xotli\n",
            "processing top: 166/187 Xoxiigghua\n",
            "processing top: 167/187 Yamath\n",
            "processing top: 168/187 Yegg-Ha\n",
            "processing top: 169/187 Y'golonac\n",
            "processing top: 170/187 Yhagni\n",
            "processing top: 171/187 Yhashtur\n",
            "processing top: 172/187 Yig\n",
            "processing top: 173/187 Y'lla\n",
            "processing top: 174/187 'Ymnar\n",
            "processing top: 175/187 Yog-Sapha\n",
            "processing top: 176/187 Yorith\n",
            "processing top: 177/187 Ysbaddaden\n",
            "processing top: 178/187 Ythogtha\n",
            "processing top: 179/187 Yug-Siturath\n",
            "processing top: 180/187 Zathog\n",
            "processing top: 181/187 Zhar and Lloigor\n",
            "processing top: 182/187 Zindarak\n",
            "processing top: 183/187 Zoth-Ommog\n",
            "processing top: 184/187 Zstylzhemghi\n",
            "processing top: 185/187 Zushakon\n",
            "processing top: 186/187 Z'toggua\n",
            "processing top: 187/187 Zvilpogghua\n",
            "/content/drive/My Drive/gpt-2/models/pokedex_bottom\n"
          ],
          "name": "stdout"
        },
        {
          "output_type": "stream",
          "text": [
            "07/21/2020 17:42:23 — INFO — aitextgen — Loading GPT-2 model from provided trained_model/pytorch_model.bin.\n",
            "07/21/2020 17:42:24 — INFO — aitextgen — Using a custom tokenizer.\n"
          ],
          "name": "stderr"
        },
        {
          "output_type": "stream",
          "text": [
            "processing bottom: 1/187 Abholos\n",
            "processing bottom: 2/187 Alala\n",
            "processing bottom: 3/187 Ammutseba\n",
            "processing bottom: 4/187 Amon-Gorloth\n",
            "processing bottom: 5/187 Aphoom-Zhah\n",
            "processing bottom: 6/187 Apocolothoth\n",
            "processing bottom: 7/187 Arwassa\n",
            "processing bottom: 8/187 Atlach-Nacha\n",
            "processing bottom: 9/187 Ayi'ig\n",
            "processing bottom: 10/187 Aylith\n",
            "processing bottom: 11/187 Baoht Z'uqqa-Mogg\n",
            "processing bottom: 12/187 Basatan\n",
            "processing bottom: 13/187 B'gnu-Thun\n",
            "processing bottom: 14/187 Bokrug\n",
            "processing bottom: 15/187 Bugg-Shash\n",
            "processing bottom: 16/187 Byagoona\n",
            "processing bottom: 17/187 Byatis\n",
            "processing bottom: 18/187 Chaugnar Faugn\n",
            "processing bottom: 19/187 Coatlicue\n",
            "processing bottom: 20/187 The Color\n",
            "processing bottom: 21/187 Coinchenn\n",
            "processing bottom: 22/187 Crom Cruach\n",
            "processing bottom: 23/187 Cthaat\n",
            "processing bottom: 24/187 Cthaeghya\n",
            "processing bottom: 25/187 Cthugha\n",
            "processing bottom: 26/187 Cthulhu\n",
            "processing bottom: 27/187 Cthylla\n",
            "processing bottom: 28/187 Ctoggha\n",
            "processing bottom: 29/187 Cyäegha\n",
            "processing bottom: 30/187 Cynothoglys\n",
            "processing bottom: 31/187 Dhumin\n",
            "processing bottom: 32/187 Dygra\n",
            "processing bottom: 33/187 Dythalla\n",
            "processing bottom: 34/187 Dzéwà\n",
            "processing bottom: 35/187 Eihort\n",
            "processing bottom: 36/187 Ei'lor\n",
            "processing bottom: 37/187 Etepsed Egnis\n",
            "processing bottom: 38/187 Ghadamon\n",
            "processing bottom: 39/187 Ghatanothoa\n",
            "processing bottom: 40/187 Ghisguth\n",
            "processing bottom: 41/187 Gi-Hoveg\n",
            "processing bottom: 42/187 Gla'aki\n",
            "processing bottom: 43/187 Gleeth\n",
            "processing bottom: 44/187 Gloon\n",
            "processing bottom: 45/187 Gobogeg\n",
            "processing bottom: 46/187 God of the Red Flux\n",
            "processing bottom: 47/187 Gog-Hoor\n",
            "processing bottom: 48/187 Gol-goroth\n",
            "processing bottom: 49/187 Golothess\n",
            "processing bottom: 50/187 The Green God\n",
            "processing bottom: 51/187 Groth-Golka\n",
            "processing bottom: 52/187 Gtuhanai\n",
            "processing bottom: 53/187 Gurathnaka\n",
            "processing bottom: 54/187 Gur'la-ya\n",
            "processing bottom: 55/187 Gwarloth\n",
            "processing bottom: 56/187 Gzxtyos\n",
            "processing bottom: 57/187 Han\n",
            "processing bottom: 58/187 Hastalÿk\n",
            "processing bottom: 59/187 Hastur\n",
            "processing bottom: 60/187 H'chtelegoth\n",
            "processing bottom: 61/187 Haiogh-Yai\n",
            "processing bottom: 62/187 Hnarqu\n",
            "processing bottom: 63/187 Hziulquoigmnzhah\n",
            "processing bottom: 64/187 Idh-yaa\n",
            "processing bottom: 65/187 Inpesca\n",
            "processing bottom: 66/187 Iod\n",
            "processing bottom: 67/187 Istasha\n",
            "processing bottom: 68/187 Ithaqua\n",
            "processing bottom: 69/187 Janai'ngo\n",
            "processing bottom: 70/187 Juk-Shabb\n",
            "processing bottom: 71/187 Kaalut\n",
            "processing bottom: 72/187 Kag'Naru of the Air\n",
            "processing bottom: 73/187 Kassogtha\n",
            "processing bottom: 74/187 Kaunuzoth\n",
            "processing bottom: 75/187 Khal'kru\n",
            "processing bottom: 76/187 Klosmiebhyx\n",
            "processing bottom: 77/187 K'nar'st\n",
            "processing bottom: 78/187 Krang\n",
            "processing bottom: 79/187 Kthaw'keth\n",
            "processing bottom: 80/187 Kurpannga\n",
            "processing bottom: 81/187 Lam\n",
            "processing bottom: 82/187 Lexur'iga-serr'roth\n",
            "processing bottom: 83/187 Lythalia\n",
            "processing bottom: 84/187 Mappo no Ryujin\n",
            "processing bottom: 85/187 M'basui Gwandu\n",
            "processing bottom: 86/187 M'Nagalah\n",
            "processing bottom: 87/187 Mnomquah\n",
            "processing bottom: 88/187 Mordiggian\n",
            "processing bottom: 89/187 Mormo\n",
            "processing bottom: 90/187 Mortllgh\n",
            "processing bottom: 91/187 Mynoghra\n",
            "processing bottom: 92/187 Nctosa & Nctolhu\n",
            "processing bottom: 93/187 Ngirrth'lu\n",
            "processing bottom: 94/187 Northot\n",
            "processing bottom: 95/187 Nssu-Ghahnb\n",
            "processing bottom: 96/187 Nug and Yeb\n",
            "processing bottom: 97/187 Nyaghoggua\n",
            "processing bottom: 98/187 Nycrama\n",
            "processing bottom: 99/187 Nyogtha\n",
            "processing bottom: 100/187 Ob'mbu\n",
            "processing bottom: 101/187 Oorn\n",
            "processing bottom: 102/187 Othuum\n",
            "processing bottom: 103/187 Othuyeg\n",
            "processing bottom: 104/187 Perse\n",
            "processing bottom: 105/187 Pharol\n",
            "processing bottom: 106/187 Poseidon\n",
            "processing bottom: 107/187 Psuchawrl\n",
            "processing bottom: 108/187 Ptar-Axtlan\n",
            "processing bottom: 109/187 Quachil Uttaus\n",
            "processing bottom: 110/187 Quyagen\n",
            "processing bottom: 111/187 Q'yth-az\n",
            "processing bottom: 112/187 Raandaii-B'nk\n",
            "processing bottom: 113/187 Ragnalla\n",
            "processing bottom: 114/187 Raphanasuan\n",
            "processing bottom: 115/187 Rhagorthua\n",
            "processing bottom: 116/187 Rhan-Tegoth\n",
            "processing bottom: 117/187 Rhogog\n",
            "processing bottom: 118/187 Rh'Thulla of the Wind\n",
            "processing bottom: 119/187 Rlim Shaikorth\n",
            "processing bottom: 120/187 Rokon\n",
            "processing bottom: 121/187 Saaitii\n",
            "processing bottom: 122/187 Scathach\n",
            "processing bottom: 123/187 Sebek\n",
            "processing bottom: 124/187 Sedmelluq\n",
            "processing bottom: 125/187 Sfatlicllp\n",
            "processing bottom: 126/187 Shaklatal\n",
            "processing bottom: 127/187 Shathak\n",
            "processing bottom: 128/187 Shaurash-Ho\n",
            "processing bottom: 129/187 Sheb-Teth\n",
            "processing bottom: 130/187 Shista\n",
            "processing bottom: 131/187 Shlithneth\n",
            "processing bottom: 132/187 Sho-Gath\n",
            "processing bottom: 133/187 Shterot\n",
            "processing bottom: 134/187 Shudde M'ell\n",
            "processing bottom: 135/187 Shuy-Nihl\n",
            "processing bottom: 136/187 Sthanee\n",
            "processing bottom: 137/187 S'tya-Yg'Nalle\n",
            "processing bottom: 138/187 Summanus\n",
            "processing bottom: 139/187 Swarog\n",
            "processing bottom: 140/187 Thanaroa\n",
            "processing bottom: 141/187 Tharapithia\n",
            "processing bottom: 142/187 Thasaidon\n",
            "processing bottom: 143/187 T'ith\n",
            "processing bottom: 144/187 Thog\n",
            "processing bottom: 145/187 Toth\n",
            "processing bottom: 146/187 Th'rygh\n",
            "processing bottom: 147/187 Tsathoggua\n",
            "processing bottom: 148/187 Tulushuggua\n",
            "processing bottom: 149/187 Turua\n",
            "processing bottom: 150/187 Uitzilcapac\n",
            "processing bottom: 151/187 Ut'Ulls-Hr'Her\n",
            "processing bottom: 152/187 Vhuzompha\n",
            "processing bottom: 153/187 Vibur\n",
            "processing bottom: 154/187 Vile-Oct\n",
            "processing bottom: 155/187 Volgna-Gath\n",
            "processing bottom: 156/187 Voltiyig\n",
            "processing bottom: 157/187 Vthyarilops\n",
            "processing bottom: 158/187 Vulthoom\n",
            "processing bottom: 159/187 The Worm that Gnaws in the Night\n",
            "processing bottom: 160/187 Xalafu\n",
            "processing bottom: 161/187 Xcthol\n",
            "processing bottom: 162/187 Xinlurgash\n",
            "processing bottom: 163/187 Xirdneth\n",
            "processing bottom: 164/187 Xitalu\n",
            "processing bottom: 165/187 Xotli\n",
            "processing bottom: 166/187 Xoxiigghua\n",
            "processing bottom: 167/187 Yamath\n",
            "processing bottom: 168/187 Yegg-Ha\n",
            "processing bottom: 169/187 Y'golonac\n",
            "processing bottom: 170/187 Yhagni\n",
            "processing bottom: 171/187 Yhashtur\n",
            "processing bottom: 172/187 Yig\n",
            "processing bottom: 173/187 Y'lla\n",
            "processing bottom: 174/187 'Ymnar\n",
            "processing bottom: 175/187 Yog-Sapha\n",
            "processing bottom: 176/187 Yorith\n",
            "processing bottom: 177/187 Ysbaddaden\n",
            "processing bottom: 178/187 Ythogtha\n",
            "processing bottom: 179/187 Yug-Siturath\n",
            "processing bottom: 180/187 Zathog\n",
            "processing bottom: 181/187 Zhar and Lloigor\n",
            "processing bottom: 182/187 Zindarak\n",
            "processing bottom: 183/187 Zoth-Ommog\n",
            "processing bottom: 184/187 Zstylzhemghi\n",
            "processing bottom: 185/187 Zushakon\n",
            "processing bottom: 186/187 Z'toggua\n",
            "processing bottom: 187/187 Zvilpogghua\n"
          ],
          "name": "stdout"
        }
      ]
    },
    {
      "cell_type": "code",
      "metadata": {
        "id": "J_Ww4gHgazyK",
        "colab_type": "code",
        "colab": {}
      },
      "source": [
        "!nvidia-smi"
      ],
      "execution_count": null,
      "outputs": []
    }
  ]
}